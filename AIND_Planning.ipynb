{
 "cells": [
  {
   "cell_type": "markdown",
   "metadata": {},
   "source": [
    "## Part 1 - Planning problems\n",
    "\n",
    "* Run uninformed planning searches for air_cargo_p1, air_cargo_p2, and air_cargo_p3; provide metrics on number of node expansions required, number of goal tests, time elapsed, and optimality of solution for each search algorithm. Include the result of at least three of these searches, including breadth-first and depth-first, in your write-up (breadth_first_search and depth_first_graph_search).\n",
    "* If depth-first takes longer than 10 minutes for Problem 3 on your system, stop the search and provide this information in your report.\n",
    "* Use the run_search script for your data collection: from the command line type python run_search.py -h to learn more."
   ]
  },
  {
   "cell_type": "code",
   "execution_count": 132,
   "metadata": {
    "collapsed": false
   },
   "outputs": [
    {
     "name": "stdout",
     "output_type": "stream",
     "text": [
      "                                Table 1: Summary Table for Problem 1                                \n",
      "----------------------------------------------------------------------------------------------------\n",
      "                           breadth_first_search   depth_first_graph_search    uniform_cost_search   \n",
      "----------------------------------------------------------------------------------------------------\n",
      "    node expansions #               43                       21                       55            \n",
      "      goal tests #                  56                       22                       57            \n",
      "    time elapsed (s)               0.032                    0.015                   0.0348          \n",
      " optimality of solution      Load(C1, P1, SFO)        Fly(P1, SFO, JFK)        Load(C1, P1, SFO)    \n",
      "                             Load(C2, P2, JFK)        Fly(P2, JFK, SFO)        Load(C2, P2, JFK)    \n",
      "                             Fly(P2, JFK, SFO)        Load(C2, P1, JFK)        Fly(P1, SFO, JFK)    \n",
      "                            Unload(C2, P2, SFO)       Fly(P1, JFK, SFO)        Fly(P2, JFK, SFO)    \n",
      "                             Fly(P1, SFO, JFK)        Fly(P2, SFO, JFK)       Unload(C1, P1, JFK)   \n",
      "                            Unload(C1, P1, JFK)      Unload(C2, P1, SFO)      Unload(C2, P2, SFO)   \n",
      "                                                          (Omitted)                                 \n",
      "----------------------------------------------------------------------------------------------------\n",
      "\n",
      "                                Table 2: Summary Table for Problem 2                                \n",
      "----------------------------------------------------------------------------------------------------\n",
      "                           breadth_first_search   depth_first_graph_search    uniform_cost_search   \n",
      "----------------------------------------------------------------------------------------------------\n",
      "    node expansions #              3343                      624                     4852           \n",
      "      goal tests #                 4609                      625                     4854           \n",
      "    time elapsed (s)              12.772                   3.1557                   11.1042         \n",
      " optimality of solution      Load(C1, P1, SFO)        Fly(P3, ATL, SFO)        Load(C1, P1, SFO)    \n",
      "                             Load(C2, P2, JFK)        Fly(P1, SFO, ATL)        Load(C2, P2, JFK)    \n",
      "                             Load(C3, P3, ATL)        Fly(P3, SFO, JFK)        Load(C3, P3, ATL)    \n",
      "                             Fly(P2, JFK, SFO)        Fly(P1, ATL, JFK)        Fly(P1, SFO, JFK)    \n",
      "                            Unload(C2, P2, SFO)       Fly(P2, JFK, ATL)        Fly(P2, JFK, SFO)    \n",
      "                             Fly(P1, SFO, JFK)        Fly(P3, JFK, ATL)        Fly(P3, ATL, SFO)    \n",
      "                            Unload(C1, P1, JFK)       Fly(P2, ATL, SFO)       Unload(C3, P3, SFO)   \n",
      "                             Fly(P3, ATL, SFO)        Fly(P3, ATL, SFO)       Unload(C1, P1, JFK)   \n",
      "                            Unload(C3, P3, SFO)       Load(C2, P1, JFK)       Unload(C2, P2, SFO)   \n",
      "                                                          (Omitted)                                 \n",
      "----------------------------------------------------------------------------------------------------\n",
      "\n",
      "                                Table 3: Summary Table for Problem 3                                \n",
      "----------------------------------------------------------------------------------------------------\n",
      "                           breadth_first_search   depth_first_graph_search    uniform_cost_search   \n",
      "----------------------------------------------------------------------------------------------------\n",
      "    node expansions #              14663                     408                     18235          \n",
      "      goal tests #                 18098                     409                     18237          \n",
      "    time elapsed (s)             103.8221                  1.7373                   49.9282         \n",
      " optimality of solution      Load(C1, P1, SFO)        Fly(P1, SFO, ORD)        Load(C1, P1, SFO)    \n",
      "                             Load(C2, P2, JFK)        Fly(P2, JFK, ORD)        Load(C2, P2, JFK)    \n",
      "                             Fly(P2, JFK, ORD)        Fly(P1, ORD, ATL)        Fly(P1, SFO, ATL)    \n",
      "                             Load(C4, P2, ORD)        Fly(P2, ORD, ATL)        Load(C3, P1, ATL)    \n",
      "                             Fly(P1, SFO, ATL)        Fly(P1, ATL, JFK)        Fly(P2, JFK, ORD)    \n",
      "                             Load(C3, P1, ATL)        Fly(P2, ATL, SFO)        Load(C4, P2, ORD)    \n",
      "                             Fly(P1, ATL, JFK)        Load(C2, P1, JFK)        Fly(P2, ORD, SFO)    \n",
      "                            Unload(C1, P1, JFK)       Fly(P2, SFO, ORD)        Fly(P1, ATL, JFK)    \n",
      "                            Unload(C3, P1, JFK)       Fly(P1, JFK, ORD)       Unload(C4, P2, SFO)   \n",
      "                             Fly(P2, ORD, SFO)        Fly(P2, ORD, ATL)       Unload(C3, P1, JFK)   \n",
      "                            Unload(C2, P2, SFO)       Fly(P1, ORD, ATL)       Unload(C1, P1, JFK)   \n",
      "                            Unload(C4, P2, SFO)       Fly(P2, ATL, JFK)       Unload(C2, P2, SFO)   \n",
      "                                                          (Omitted)                                 \n",
      "----------------------------------------------------------------------------------------------------\n",
      "\n"
     ]
    }
   ],
   "source": [
    "import run_search as rs\n",
    "import itertools\n",
    "# breadth_first_search; depth_first_graph_search, uniform_cost_search\n",
    "# number of node expansions required, number of goal tests, time elapsed, and optimality of solution\n",
    "\n",
    "def get_solution(i, j):\n",
    "    p = rs.PROBLEMS[i-1][1]\n",
    "    s = rs.SEARCHES[j-1][1]\n",
    "    h = rs.SEARCHES[j-1][2]\n",
    "    _p = p()\n",
    "    _h = None if not h else getattr(_p, h)\n",
    "    start = rs.timer()\n",
    "    ip = rs.PrintableProblem(_p)\n",
    "    if _h is not None:\n",
    "        node = s(ip, parameter)\n",
    "    else:\n",
    "        node = s(ip)\n",
    "    end = rs.timer()\n",
    "    elapsed = end - start\n",
    "    solution = []\n",
    "    nums = [int(s) for s in str(ip).split() if s.isdigit()]\n",
    "    solution.extend([nums[0],nums[1],round(elapsed,4)])\n",
    "    for action in node.solution():\n",
    "        solution.append(\"{}{}\".format(action.name, action.args))\n",
    "    return solution\n",
    "def print_m_table(p,s1,s2,s3):\n",
    "    solution_1 = get_solution(p,s1)\n",
    "    solution_2 = get_solution(p,s2)\n",
    "    solution_3 = get_solution(p,s3)\n",
    "    Methods = [rs.SEARCHES[s1-1][0], rs.SEARCHES[s2-1][0], rs.SEARCHES[s3-1][0]]\n",
    "    Outputs = [\"node expansions #\", \"goal tests #\", \"time elapsed (s)\", \"optimality of solution\"]\n",
    "    print('-'*100)\n",
    "    print(('{:^25}'*(len(Methods)+1)).format(\"\",*Methods))\n",
    "    print('-'*100)\n",
    "    for o, s1,s2,s3 in itertools.zip_longest(Outputs,solution_1,solution_2,solution_3):\n",
    "        o = \"\" if o is None else o\n",
    "        s1 = \"\" if s1 is None else s1\n",
    "        s2 = \"\" if s2 is None else s2\n",
    "        s3 = \"\" if s3 is None else s3\n",
    "        if (sum([(s1 == \"\"),(s2 == \"\"),(s3 == \"\") ])<2):\n",
    "            print(('{:^25}'*4).format(o, str(s1),str(s2),str(s3)))\n",
    "        else: \n",
    "            print(('{:^25}'*4).format(\"\", *[(str(s) if s ==\"\" else \"(Omitted)\" ) for s in [s1,s2,s3]]))\n",
    "            break\n",
    "    print('-'*100)\n",
    "    print()\n",
    "print('{:^100}'.format(\"Table 1: Summary Table for Problem 1\"))\n",
    "print_m_table(1,1,3,5)\n",
    "print('{:^100}'.format(\"Table 2: Summary Table for Problem 2\"))\n",
    "print_m_table(2,1,3,5)\n",
    "print('{:^100}'.format(\"Table 3: Summary Table for Problem 3\"))\n",
    "print_m_table(3,1,3,5)"
   ]
  },
  {
   "cell_type": "markdown",
   "metadata": {},
   "source": [
    "## Part 2 - Domain-independent heuristics\n",
    "\n",
    "* Run A* planning searches using the heuristics you have implemented on air_cargo_p1, air_cargo_p2 and air_cargo_p3. Provide metrics on number of node expansions required, number of goal tests, time elapsed, and optimality of solution for each search algorithm and include the results in your report.\n",
    "* Use the run_search script for this purpose: from the command line type python run_search.py -h to learn more."
   ]
  },
  {
   "cell_type": "markdown",
   "metadata": {},
   "source": [
    "## Part 3 - Written Analysis\n",
    "\n",
    "* Provide an optimal plan for Problems 1, 2, and 3.\n",
    "* Compare and contrast non-heuristic search result metrics (optimality, time elapsed, number of node expansions) for Problems 1,2, and 3. Include breadth-first, depth-first, and at least one other uninformed non-heuristic search in your comparison; Your third choice of non-heuristic search may be skipped for Problem 3 if it takes longer than 10 minutes to run, but a note in this case should be included.\n",
    "* Compare and contrast heuristic search result metrics using A* with the \"ignore preconditions\" and \"level-sum\" heuristics for Problems 1, 2, and 3.\n",
    "* What was the best heuristic used in these problems? Was it better than non-heuristic search planning methods for all problems? Why or why not?\n",
    "* Provide tables or other visual aids as needed for clarity in your discussion."
   ]
  },
  {
   "cell_type": "code",
   "execution_count": null,
   "metadata": {
    "collapsed": true
   },
   "outputs": [],
   "source": []
  }
 ],
 "metadata": {
  "kernelspec": {
   "display_name": "aind",
   "language": "python",
   "name": "aind"
  },
  "language_info": {
   "codemirror_mode": {
    "name": "ipython",
    "version": 3
   },
   "file_extension": ".py",
   "mimetype": "text/x-python",
   "name": "python",
   "nbconvert_exporter": "python",
   "pygments_lexer": "ipython3",
   "version": "3.6.0"
  }
 },
 "nbformat": 4,
 "nbformat_minor": 2
}
